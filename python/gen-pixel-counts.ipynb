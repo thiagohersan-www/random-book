{
 "cells": [
  {
   "cell_type": "code",
   "execution_count": null,
   "metadata": {},
   "outputs": [],
   "source": [
    "!wget -qO- https://github.com/PSAM-5020-2025S-A/5020-utils/releases/latest/download/clouds.tar.gz | tar xz\n",
    "!wget -qO- https://github.com/PSAM-5020-2025S-A/5020-utils/releases/latest/download/flowers.tar.gz | tar xz\n",
    "!wget -qO- https://github.com/PSAM-5020-2025S-A/5020-utils/releases/latest/download/metfaces.tar.gz | tar xz\n",
    "!mv data/image/metfaces/256/* data/image/metfaces/\n",
    "!rm -rf data/image/metfaces/256 data/image/metfaces/1024"
   ]
  },
  {
   "cell_type": "code",
   "execution_count": null,
   "metadata": {},
   "outputs": [],
   "source": [
    "import matplotlib.pyplot as plt\n",
    "import numpy as np\n",
    "\n",
    "from os import listdir\n",
    "\n",
    "from gen_pixel_counts import count_channel_vals\n",
    "\n",
    "PIXCOUNTS = {}\n",
    "\n",
    "for d in [\"clouds\", \"flowers\", \"metfaces\"]:\n",
    "  dpath = f\"./data/image/{d}\"\n",
    "  fnames = sorted([f for f in listdir(dpath) if f.endswith((\"jpg\", \"png\"))])\n",
    "  print(d, len(fnames))\n",
    "  PIXCOUNTS[d] = np.array([count_channel_vals(f\"{dpath}/{f}\") for f in fnames]).transpose(1,0,2)"
   ]
  },
  {
   "cell_type": "code",
   "execution_count": null,
   "metadata": {},
   "outputs": [],
   "source": [
    "for d in PIXCOUNTS.keys():\n",
    "  sums = PIXCOUNTS[d].sum(axis=1)\n",
    "  plt.title(d)\n",
    "  plt.plot(sums[0], 'r')\n",
    "  plt.plot(sums[1], 'g')\n",
    "  plt.plot(sums[2], 'b')\n",
    "  plt.xlim([5,247])\n",
    "  plt.show()"
   ]
  },
  {
   "cell_type": "code",
   "execution_count": null,
   "metadata": {},
   "outputs": [],
   "source": [
    "for d in PIXCOUNTS.keys():\n",
    "  sums = PIXCOUNTS[d].sum(axis=1)\n",
    "  norms = sums[:,5:247] / sums[:,5:247].max(axis=1, keepdims=True)\n",
    "  plt.title(d)\n",
    "  plt.plot(norms[0], 'r')\n",
    "  plt.plot(norms[1], 'g')\n",
    "  plt.plot(norms[2], 'b')\n",
    "  plt.show()"
   ]
  }
 ],
 "metadata": {
  "kernelspec": {
   "display_name": "9103",
   "language": "python",
   "name": "python3"
  },
  "language_info": {
   "codemirror_mode": {
    "name": "ipython",
    "version": 3
   },
   "file_extension": ".py",
   "mimetype": "text/x-python",
   "name": "python",
   "nbconvert_exporter": "python",
   "pygments_lexer": "ipython3",
   "version": "3.10.15"
  }
 },
 "nbformat": 4,
 "nbformat_minor": 2
}
